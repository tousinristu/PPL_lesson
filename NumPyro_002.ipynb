{
  "nbformat": 4,
  "nbformat_minor": 0,
  "metadata": {
    "colab": {
      "provenance": [],
      "authorship_tag": "ABX9TyObl6Uz9aNscUY4xvxdA/YV",
      "include_colab_link": true
    },
    "kernelspec": {
      "name": "python3",
      "display_name": "Python 3"
    },
    "language_info": {
      "name": "python"
    }
  },
  "cells": [
    {
      "cell_type": "markdown",
      "metadata": {
        "id": "view-in-github",
        "colab_type": "text"
      },
      "source": [
        "<a href=\"https://colab.research.google.com/github/tousinritsu/PPL_lesson/blob/main/NumPyro_002.ipynb\" target=\"_parent\"><img src=\"https://colab.research.google.com/assets/colab-badge.svg\" alt=\"Open In Colab\"/></a>"
      ]
    },
    {
      "cell_type": "markdown",
      "source": [
        "# ベルヌーイ分布の学習・予測"
      ],
      "metadata": {
        "id": "h_9sEl8UbgOI"
      }
    },
    {
      "cell_type": "code",
      "source": [
        "!pip install -q jax funsor numpyro arviz causalgraphicalmodels daft"
      ],
      "metadata": {
        "id": "nSPSNyYgnngX",
        "colab": {
          "base_uri": "https://localhost:8080/"
        },
        "outputId": "21fea9c0-5925-4eb8-e369-244efef527f7"
      },
      "execution_count": 1,
      "outputs": [
        {
          "output_type": "stream",
          "name": "stdout",
          "text": [
            "\u001b[2K     \u001b[90m━━━━━━━━━━━━━━━━━━━━━━━━━━━━━━━━━━━━━━━\u001b[0m \u001b[32m174.9/174.9 KB\u001b[0m \u001b[31m3.6 MB/s\u001b[0m eta \u001b[36m0:00:00\u001b[0m\n",
            "\u001b[2K     \u001b[90m━━━━━━━━━━━━━━━━━━━━━━━━━━━━━━━━━━━━━━\u001b[0m \u001b[32m300.2/300.2 KB\u001b[0m \u001b[31m16.4 MB/s\u001b[0m eta \u001b[36m0:00:00\u001b[0m\n",
            "\u001b[2K     \u001b[90m━━━━━━━━━━━━━━━━━━━━━━━━━━━━━━━━━━━━━━━━\u001b[0m \u001b[32m72.6/72.6 MB\u001b[0m \u001b[31m9.4 MB/s\u001b[0m eta \u001b[36m0:00:00\u001b[0m\n",
            "\u001b[2K     \u001b[90m━━━━━━━━━━━━━━━━━━━━━━━━━━━━━━━━━━━━━━━━\u001b[0m \u001b[32m1.2/1.2 MB\u001b[0m \u001b[31m28.1 MB/s\u001b[0m eta \u001b[36m0:00:00\u001b[0m\n",
            "\u001b[?25h  Preparing metadata (setup.py) ... \u001b[?25l\u001b[?25hdone\n",
            "  Building wheel for jax (setup.py) ... \u001b[?25l\u001b[?25hdone\n"
          ]
        }
      ]
    },
    {
      "cell_type": "code",
      "source": [
        "from jax import jit\n",
        "import jax.numpy as jnp\n",
        "from jax import random\n",
        "import numpy as np\n",
        "\n",
        "import numpyro\n",
        "import numpyro.distributions as dist\n",
        "from numpyro.infer import MCMC, NUTS, Predictive\n",
        "from numpyro import sample, plate, handlers\n",
        "import funsor\n",
        "\n",
        "import matplotlib.pyplot as plt\n",
        "import seaborn as sns\n",
        "from tqdm import tqdm\n",
        "\n",
        "plt.style.use(\"seaborn\")\n",
        "\n",
        "# 乱数シード固定\n",
        "rng_key = random.PRNGKey(0)\n"
      ],
      "metadata": {
        "id": "tKFlRLqwJ-bF"
      },
      "execution_count": 8,
      "outputs": []
    },
    {
      "cell_type": "markdown",
      "source": [
        "次の構造を仮定する\n",
        "\n",
        "【確率モデル】<br>\n",
        "$x∼Bern(x|μ)$<br>\n",
        "$x\\in\\{0,1\\}$<br>\n",
        "$p(x|μ)=Bern(x|μ)$\n",
        "\n",
        "【事前分布】<br>\n",
        "$μ∈(0,1)$,<br>\n",
        "$p(μ|a,b)=Beta(μ|a,b)$"
      ],
      "metadata": {
        "id": "NgTonQglnoh6"
      }
    },
    {
      "cell_type": "code",
      "source": [
        "# modelを定義する\n",
        "def model(X_obs = None):\n",
        "  \"\"\"\n",
        "  X_obs :観測値\n",
        "  \"\"\"\n",
        "  a = 2\n",
        "  b = 2\n",
        "  # numpyro.sampleとdist.sampleは異なるものであることに注意\n",
        "  mu = numpyro.sample('mu', dist.Beta(a,b))\n",
        "  x = numpyro.sample('x',dist.Bernoulli(mu),obs = X_obs)\n",
        "\n",
        "  return x\n",
        "\n"
      ],
      "metadata": {
        "id": "DHk8L9a4K6yg"
      },
      "execution_count": 9,
      "outputs": []
    },
    {
      "cell_type": "markdown",
      "source": [
        "## 観測値を使用しない場合\n",
        "a,b定数として、そもそも観測値がないとどうなるか"
      ],
      "metadata": {
        "id": "McOcZk280A7a"
      }
    },
    {
      "cell_type": "code",
      "source": [
        "# Run MCMC\n",
        "kernel = NUTS(model)\n",
        "mcmc = MCMC(kernel, num_warmup=1000, num_samples=2000)\n",
        "mcmc.run(rng_key=random.PRNGKey(0))\n",
        "\n",
        "# print MCMC summary（推定パラメータの基本統計量）\n",
        "mcmc.print_summary()"
      ],
      "metadata": {
        "colab": {
          "base_uri": "https://localhost:8080/"
        },
        "id": "YC_lxgiFzzAd",
        "outputId": "f34a2369-72ba-4005-da45-a09d4773602f"
      },
      "execution_count": 32,
      "outputs": [
        {
          "output_type": "stream",
          "name": "stderr",
          "text": [
            "<ipython-input-32-192b16f841f2>:4: FutureWarning: Some algorithms will automatically enumerate the discrete latent site x of your model. In the future, enumerated sites need to be marked with `infer={'enumerate': 'parallel'}`.\n",
            "  mcmc.run(rng_key=random.PRNGKey(0))\n",
            "sample: 100%|██████████| 3000/3000 [00:04<00:00, 745.33it/s, 3 steps of size 9.33e-01. acc. prob=0.94] \n"
          ]
        },
        {
          "output_type": "stream",
          "name": "stdout",
          "text": [
            "\n",
            "                mean       std    median      5.0%     95.0%     n_eff     r_hat\n",
            "        mu      0.51      0.23      0.51      0.13      0.87    782.79      1.01\n",
            "\n",
            "Number of divergences: 0\n"
          ]
        }
      ]
    },
    {
      "cell_type": "code",
      "source": [
        "# mcmcでの推定パラメータを取得「\n",
        "mcmc_samples = mcmc.get_samples()\n",
        "print(mcmc_samples[\"mu\"])\n",
        "# muをプロット\n",
        "sns.displot(\n",
        "    mcmc_samples[\"mu\"],\n",
        "    kde = True\n",
        ")"
      ],
      "metadata": {
        "colab": {
          "base_uri": "https://localhost:8080/",
          "height": 406
        },
        "id": "zuOFGHtAzy4Z",
        "outputId": "a71e1d77-b92f-44e0-9d03-7b0221dc4ee3"
      },
      "execution_count": 33,
      "outputs": [
        {
          "output_type": "stream",
          "name": "stdout",
          "text": [
            "[0.8667454  0.569361   0.44099575 ... 0.66076124 0.38886777 0.84807914]\n"
          ]
        },
        {
          "output_type": "execute_result",
          "data": {
            "text/plain": [
              "<seaborn.axisgrid.FacetGrid at 0x7f2e064a5fd0>"
            ]
          },
          "metadata": {},
          "execution_count": 33
        },
        {
          "output_type": "display_data",
          "data": {
            "text/plain": [
              "<Figure size 360x360 with 1 Axes>"
            ],
            "image/png": "[encoded data removed]"
          },
          "metadata": {}
        }
      ]
    },
    {
      "cell_type": "markdown",
      "source": [
        "結果、$μ=0.51$と推定されている"
      ],
      "metadata": {
        "id": "PrTECkxK0Tm0"
      }
    },
    {
      "cell_type": "markdown",
      "source": [
        "## 観測値を使用しない場合\n",
        "μ=0.8としてみる"
      ],
      "metadata": {
        "id": "yIvglHyJ0FRv"
      }
    },
    {
      "cell_type": "code",
      "source": [
        "# 予測対象のベルヌーイ分布\n",
        "true_mu = 0.8\n",
        "bern = dist.Bernoulli(true_mu)\n",
        "obs = bern.sample(\n",
        "    rng_key,\n",
        "    sample_shape = (100,)\n",
        "    )"
      ],
      "metadata": {
        "id": "MVSgYRdFvKUz"
      },
      "execution_count": 29,
      "outputs": []
    },
    {
      "cell_type": "code",
      "source": [
        "# Run MCMC\n",
        "kernel = NUTS(model)\n",
        "mcmc = MCMC(kernel, num_warmup=1000, num_samples=2000)\n",
        "mcmc.run(rng_key=random.PRNGKey(0),X_obs=obs)\n",
        "\n",
        "# print MCMC summary（推定パラメータの基本統計量）\n",
        "mcmc.print_summary()"
      ],
      "metadata": {
        "id": "5PP-_erKXTT_",
        "colab": {
          "base_uri": "https://localhost:8080/"
        },
        "outputId": "2022c639-c28e-4b8a-ed3b-e933d2290d21"
      },
      "execution_count": 30,
      "outputs": [
        {
          "output_type": "stream",
          "name": "stderr",
          "text": [
            "sample: 100%|██████████| 3000/3000 [00:03<00:00, 755.06it/s, 3 steps of size 8.59e-01. acc. prob=0.94] \n"
          ]
        },
        {
          "output_type": "stream",
          "name": "stdout",
          "text": [
            "\n",
            "                mean       std    median      5.0%     95.0%     n_eff     r_hat\n",
            "        mu      0.76      0.04      0.76      0.69      0.83    803.15      1.01\n",
            "\n",
            "Number of divergences: 0\n"
          ]
        }
      ]
    },
    {
      "cell_type": "code",
      "source": [
        "# mcmcでの推定パラメータを取得「\n",
        "mcmc_samples = mcmc.get_samples()\n",
        "print(mcmc_samples[\"mu\"])\n",
        "# muをプロット\n",
        "sns.displot(\n",
        "    mcmc_samples[\"mu\"],\n",
        "    kde = True\n",
        ")"
      ],
      "metadata": {
        "colab": {
          "base_uri": "https://localhost:8080/",
          "height": 406
        },
        "id": "l8-Vo4JTvEh9",
        "outputId": "080341e9-19ee-46ee-9067-e41431a07ffc"
      },
      "execution_count": 31,
      "outputs": [
        {
          "output_type": "stream",
          "name": "stdout",
          "text": [
            "[0.8339849  0.7761451  0.77406913 ... 0.71477526 0.69934016 0.7774202 ]\n"
          ]
        },
        {
          "output_type": "execute_result",
          "data": {
            "text/plain": [
              "<seaborn.axisgrid.FacetGrid at 0x7f2e064878b0>"
            ]
          },
          "metadata": {},
          "execution_count": 31
        },
        {
          "output_type": "display_data",
          "data": {
            "text/plain": [
              "<Figure size 360x360 with 1 Axes>"
            ],
            "image/png": "[encoded data removed]"
          },
          "metadata": {}
        }
      ]
    },
    {
      "cell_type": "markdown",
      "source": [
        "結果、$μ=0.76$と推定されている<br>\n",
        "観測値を使用することで、真の値を推定できているように見える"
      ],
      "metadata": {
        "id": "BbYblbSjzs6Y"
      }
    },
    {
      "cell_type": "code",
      "source": [],
      "metadata": {
        "id": "LElHqKQYx20H"
      },
      "execution_count": null,
      "outputs": []
    },
    {
      "cell_type": "code",
      "source": [],
      "metadata": {
        "id": "PODQ-PjHyCDA"
      },
      "execution_count": null,
      "outputs": []
    }
  ]
}